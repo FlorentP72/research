{
 "cells": [
  {
   "cell_type": "code",
   "execution_count": 1,
   "metadata": {},
   "outputs": [],
   "source": [
    "import pandas as pd\n",
    "import seaborn as sn\n",
    "import numpy as np\n",
    "import math\n",
    "import matplotlib.pyplot as plt\n",
    "from sklearn.linear_model import LogisticRegression\n",
    "from sklearn.neighbors import KNeighborsClassifier\n",
    "from sklearn.naive_bayes import BernoulliNB\n",
    "from sklearn.svm import SVC\n",
    "from sklearn.ensemble import RandomForestClassifier, GradientBoostingClassifier, AdaBoostClassifier\n",
    "from sklearn.tree import DecisionTreeClassifier\n",
    "from sklearn.neural_network import MLPClassifier\n",
    "from sklearn.metrics import accuracy_score\n",
    "from sklearn.metrics import classification_report\n",
    "from sklearn.model_selection import train_test_split"
   ]
  },
  {
   "cell_type": "markdown",
   "metadata": {},
   "source": [
    "### Датасет"
   ]
  },
  {
   "cell_type": "code",
   "execution_count": 2,
   "metadata": {},
   "outputs": [
    {
     "data": {
      "text/html": [
       "<div>\n",
       "<style scoped>\n",
       "    .dataframe tbody tr th:only-of-type {\n",
       "        vertical-align: middle;\n",
       "    }\n",
       "\n",
       "    .dataframe tbody tr th {\n",
       "        vertical-align: top;\n",
       "    }\n",
       "\n",
       "    .dataframe thead th {\n",
       "        text-align: right;\n",
       "    }\n",
       "</style>\n",
       "<table border=\"1\" class=\"dataframe\">\n",
       "  <thead>\n",
       "    <tr style=\"text-align: right;\">\n",
       "      <th></th>\n",
       "      <th>Button.left_dwell</th>\n",
       "      <th>Button.left_interval</th>\n",
       "      <th>Button.left_flight</th>\n",
       "      <th>is_insider</th>\n",
       "    </tr>\n",
       "  </thead>\n",
       "  <tbody>\n",
       "    <tr>\n",
       "      <td>0</td>\n",
       "      <td>82.18</td>\n",
       "      <td>472.27</td>\n",
       "      <td>469.34</td>\n",
       "      <td>0</td>\n",
       "    </tr>\n",
       "    <tr>\n",
       "      <td>1</td>\n",
       "      <td>75.87</td>\n",
       "      <td>479.03</td>\n",
       "      <td>460.12</td>\n",
       "      <td>0</td>\n",
       "    </tr>\n",
       "    <tr>\n",
       "      <td>2</td>\n",
       "      <td>94.25</td>\n",
       "      <td>477.76</td>\n",
       "      <td>422.48</td>\n",
       "      <td>0</td>\n",
       "    </tr>\n",
       "    <tr>\n",
       "      <td>3</td>\n",
       "      <td>10.33</td>\n",
       "      <td>556.47</td>\n",
       "      <td>514.17</td>\n",
       "      <td>0</td>\n",
       "    </tr>\n",
       "    <tr>\n",
       "      <td>4</td>\n",
       "      <td>27.35</td>\n",
       "      <td>464.80</td>\n",
       "      <td>492.16</td>\n",
       "      <td>0</td>\n",
       "    </tr>\n",
       "  </tbody>\n",
       "</table>\n",
       "</div>"
      ],
      "text/plain": [
       "   Button.left_dwell  Button.left_interval  Button.left_flight  is_insider\n",
       "0              82.18                472.27              469.34           0\n",
       "1              75.87                479.03              460.12           0\n",
       "2              94.25                477.76              422.48           0\n",
       "3              10.33                556.47              514.17           0\n",
       "4              27.35                464.80              492.16           0"
      ]
     },
     "execution_count": 2,
     "metadata": {},
     "output_type": "execute_result"
    }
   ],
   "source": [
    "df = pd.read_csv(\"../data/features.csv\", sep=\"|\")\n",
    "df.head()"
   ]
  },
  {
   "cell_type": "code",
   "execution_count": 3,
   "metadata": {},
   "outputs": [],
   "source": [
    "y = df['is_insider']\n",
    "x_train, x_test, y_train, y_test = train_test_split(df, y, random_state = 0, test_size = 0.4)"
   ]
  },
  {
   "cell_type": "code",
   "execution_count": 4,
   "metadata": {},
   "outputs": [
    {
     "name": "stderr",
     "output_type": "stream",
     "text": [
      "/Users/azamat/opt/anaconda3/lib/python3.7/site-packages/pandas/core/indexing.py:494: SettingWithCopyWarning: \n",
      "A value is trying to be set on a copy of a slice from a DataFrame.\n",
      "Try using .loc[row_indexer,col_indexer] = value instead\n",
      "\n",
      "See the caveats in the documentation: http://pandas.pydata.org/pandas-docs/stable/user_guide/indexing.html#returning-a-view-versus-a-copy\n",
      "  self.obj[item] = s\n"
     ]
    }
   ],
   "source": [
    "medians = {} # словарь для хранения медиан для каждого столбца\n",
    "# заполнение пустот в обучаемой выборке с помощью медиан\n",
    "# и их использование для заполнения пустот в валидационной выборке\n",
    "for col in x_train.columns:\n",
    "    if col != 'is_insider':\n",
    "        # медианы         \n",
    "        medians[col + \"_non_insider\"] = x_train.loc[(x_train[col] != 0) & (x_train['is_insider'] == 0), col].median()\n",
    "        medians[col + \"_is_insider\"] = x_train.loc[(x_train[col] != 0) & (x_train['is_insider'] == 1), col].median()\n",
    "        # заполнение пустот в обучаемой выборке с помощью медиан из обучаемой выборки\n",
    "        x_train.loc[(x_train[col] == 0) & (x_train['is_insider'] == 0), col] = medians[col + \"_non_insider\"] if medians[col + \"_non_insider\"] is not np.nan else 0 \n",
    "        x_train.loc[(x_train[col] == 0) & (x_train['is_insider'] == 1), col] = medians[col + \"_is_insider\"] if medians[col + \"_is_insider\"] is not np.nan else 0\n",
    "        # заполнение пустот в валидационной выборке с помощью медиан из обучаемой выборки\n",
    "        x_test.loc[(x_test[col] == 0) & (x_test['is_insider'] == 0), col] = medians[col + \"_non_insider\"] if medians[col + \"_non_insider\"] is not np.nan else 0\n",
    "        x_test.loc[(x_test[col] == 0) & (x_test['is_insider'] == 1), col] = medians[col + \"_is_insider\"] if medians[col + \"_is_insider\"] is not np.nan else 0\n",
    "        \n",
    "# очистка памяти\n",
    "del medians"
   ]
  },
  {
   "cell_type": "code",
   "execution_count": 5,
   "metadata": {},
   "outputs": [],
   "source": [
    "medians_insider = []\n",
    "medians_non_insider = []\n",
    "cols = []\n",
    "special_keys = [\n",
    "    \"Key.esc\",\n",
    "    \"Key.tab\",\n",
    "    \"Key.caps_lock\",\n",
    "    \"Key.shift\",\n",
    "    \"Key.ctrl\",\n",
    "    \"Key.alt\",\n",
    "    \"Key.cmd\",\n",
    "    \"Key.space\",\n",
    "    \"Key.enter\",\n",
    "    \"Key.backspace\",\n",
    "]\n",
    "for col in x_train.columns:\n",
    "    # не считаем медианы для таргета и частотных признаков\n",
    "    if col != 'is_insider' and col not in special_keys:\n",
    "        cols.append(col)\n",
    "        medians_insider.append(x_train[x_train['is_insider'] == 1][col].median())\n",
    "        medians_non_insider.append(x_train[x_train['is_insider'] == 0][col].median())   "
   ]
  },
  {
   "cell_type": "code",
   "execution_count": 6,
   "metadata": {},
   "outputs": [
    {
     "name": "stdout",
     "output_type": "stream",
     "text": [
      "dwell 0 1 100.0\n",
      "interval 1 1 0\n",
      "flight 1 1 0\n",
      "up_to_up 0 0 0\n",
      "dwell_first 0 0 0\n",
      "dwell_second 0 0 0\n",
      "dwell_third 0 0 0\n",
      "interval_first 0 0 0\n",
      "interval_second 0 0 0\n",
      "flight_first 0 0 0\n",
      "flight_second 0 0 0\n",
      "up_to_up_first 0 0 0\n",
      "up_to_up_second 0 0 0\n",
      "latency 0 0 0\n"
     ]
    }
   ],
   "source": [
    "rels = {\n",
    "    \"dwell\": [0,0], # длительность нажатия первой буквы\n",
    "    \"interval\": [0,0], # промежуток между отпусканием первой и нажатием второй буквы\n",
    "    \"flight\": [0,0], # промежуток между нажатием первой и нажатием второй буквы\n",
    "    \"up_to_up\": [0,0], # промежуток между отпусканием первой и отпусканием второй\n",
    "    \"dwell_first\": [0,0], # длительность нажатия первой буквы\n",
    "    \"dwell_second\": [0,0], # длительность нажатия второй буквы\n",
    "    \"dwell_third\": [0,0], # длительность нажатия третьей буквы\n",
    "    \"interval_first\": [0,0], # промежуток между отпусканием первой и нажатием второй буквы\n",
    "    \"interval_second\": [0,0], # промежуток между отпусканием второй и нажатием третьей буквы\n",
    "    \"flight_first\": [0,0], # промежуток между нажатием первой и нажатием второй буквы\n",
    "    \"flight_second\": [0,0], # промежуток между нажатием второй и нажатием третьей буквы    \n",
    "    \"up_to_up_first\": [0,0], # промежуток между отпусканием первой и отпусканием второй\n",
    "    \"up_to_up_second\": [0,0], # промежуток между отпусканием второй и отпусканием третьей\n",
    "    \"latency\": [0,0], # промежуток между нажатием первой и отпусканием третьей\n",
    "}\n",
    "for i in range(len(medians_insider)):\n",
    "    for k,v in rels.items():\n",
    "        if k in cols[i]:\n",
    "            if medians_insider[i] < medians_non_insider[i]:\n",
    "                v[0] += 1\n",
    "            v[1] += 1\n",
    "\n",
    "for k,v in rels.items():\n",
    "    print(k,v[0],v[1],(v[1] - v[0]) / v[1] * 100 if v[1]-v[0] != 0 else 0)"
   ]
  },
  {
   "cell_type": "code",
   "execution_count": 7,
   "metadata": {},
   "outputs": [
    {
     "data": {
      "text/html": [
       "<div>\n",
       "<style scoped>\n",
       "    .dataframe tbody tr th:only-of-type {\n",
       "        vertical-align: middle;\n",
       "    }\n",
       "\n",
       "    .dataframe tbody tr th {\n",
       "        vertical-align: top;\n",
       "    }\n",
       "\n",
       "    .dataframe thead th {\n",
       "        text-align: right;\n",
       "    }\n",
       "</style>\n",
       "<table border=\"1\" class=\"dataframe\">\n",
       "  <thead>\n",
       "    <tr style=\"text-align: right;\">\n",
       "      <th></th>\n",
       "      <th>Button.left_dwell</th>\n",
       "      <th>Button.left_interval</th>\n",
       "      <th>Button.left_flight</th>\n",
       "      <th>is_insider</th>\n",
       "    </tr>\n",
       "  </thead>\n",
       "  <tbody>\n",
       "    <tr>\n",
       "      <td>11</td>\n",
       "      <td>98.57</td>\n",
       "      <td>441.08</td>\n",
       "      <td>477.79</td>\n",
       "      <td>0</td>\n",
       "    </tr>\n",
       "    <tr>\n",
       "      <td>31</td>\n",
       "      <td>105.65</td>\n",
       "      <td>417.91</td>\n",
       "      <td>486.52</td>\n",
       "      <td>1</td>\n",
       "    </tr>\n",
       "    <tr>\n",
       "      <td>33</td>\n",
       "      <td>11.28</td>\n",
       "      <td>417.92</td>\n",
       "      <td>429.20</td>\n",
       "      <td>1</td>\n",
       "    </tr>\n",
       "    <tr>\n",
       "      <td>27</td>\n",
       "      <td>6.72</td>\n",
       "      <td>385.59</td>\n",
       "      <td>392.31</td>\n",
       "      <td>1</td>\n",
       "    </tr>\n",
       "    <tr>\n",
       "      <td>47</td>\n",
       "      <td>267.34</td>\n",
       "      <td>481.75</td>\n",
       "      <td>463.38</td>\n",
       "      <td>1</td>\n",
       "    </tr>\n",
       "  </tbody>\n",
       "</table>\n",
       "</div>"
      ],
      "text/plain": [
       "    Button.left_dwell  Button.left_interval  Button.left_flight  is_insider\n",
       "11              98.57                441.08              477.79           0\n",
       "31             105.65                417.91              486.52           1\n",
       "33              11.28                417.92              429.20           1\n",
       "27               6.72                385.59              392.31           1\n",
       "47             267.34                481.75              463.38           1"
      ]
     },
     "execution_count": 7,
     "metadata": {},
     "output_type": "execute_result"
    }
   ],
   "source": [
    "x_train.head()"
   ]
  },
  {
   "cell_type": "code",
   "execution_count": 8,
   "metadata": {},
   "outputs": [
    {
     "data": {
      "image/png": "[encoded data removed]",
      "text/plain": [
       "<Figure size 2160x1440 with 1 Axes>"
      ]
     },
     "metadata": {
      "needs_background": "light"
     },
     "output_type": "display_data"
    }
   ],
   "source": [
    "plt.figure(figsize=(30,20))\n",
    "plt.plot(medians_insider[:92], '--rx', label = 'аномальное поведение')\n",
    "plt.plot(medians_non_insider[:92], '--bo', label = 'нормальное поведение')\n",
    "plt.legend()\n",
    "plt.xticks(np.arange(len(cols)/2), labels=cols[:92], rotation=90)\n",
    "plt.ylabel('Длительность, мс')\n",
    "plt.xlabel('Признаки')\n",
    "plt.savefig('first.png', bbox_inches='tight')\n",
    "plt.show()"
   ]
  },
  {
   "cell_type": "code",
   "execution_count": 9,
   "metadata": {},
   "outputs": [
    {
     "name": "stderr",
     "output_type": "stream",
     "text": [
      "/Users/azamat/opt/anaconda3/lib/python3.7/site-packages/pandas/core/frame.py:4102: SettingWithCopyWarning: \n",
      "A value is trying to be set on a copy of a slice from a DataFrame\n",
      "\n",
      "See the caveats in the documentation: http://pandas.pydata.org/pandas-docs/stable/user_guide/indexing.html#returning-a-view-versus-a-copy\n",
      "  errors=errors,\n"
     ]
    },
    {
     "data": {
      "text/html": [
       "<div>\n",
       "<style scoped>\n",
       "    .dataframe tbody tr th:only-of-type {\n",
       "        vertical-align: middle;\n",
       "    }\n",
       "\n",
       "    .dataframe tbody tr th {\n",
       "        vertical-align: top;\n",
       "    }\n",
       "\n",
       "    .dataframe thead th {\n",
       "        text-align: right;\n",
       "    }\n",
       "</style>\n",
       "<table border=\"1\" class=\"dataframe\">\n",
       "  <thead>\n",
       "    <tr style=\"text-align: right;\">\n",
       "      <th></th>\n",
       "      <th>Button.left_dwell</th>\n",
       "      <th>Button.left_interval</th>\n",
       "      <th>Button.left_flight</th>\n",
       "    </tr>\n",
       "  </thead>\n",
       "  <tbody>\n",
       "    <tr>\n",
       "      <td>11</td>\n",
       "      <td>98.57</td>\n",
       "      <td>441.08</td>\n",
       "      <td>477.79</td>\n",
       "    </tr>\n",
       "    <tr>\n",
       "      <td>31</td>\n",
       "      <td>105.65</td>\n",
       "      <td>417.91</td>\n",
       "      <td>486.52</td>\n",
       "    </tr>\n",
       "    <tr>\n",
       "      <td>33</td>\n",
       "      <td>11.28</td>\n",
       "      <td>417.92</td>\n",
       "      <td>429.20</td>\n",
       "    </tr>\n",
       "    <tr>\n",
       "      <td>27</td>\n",
       "      <td>6.72</td>\n",
       "      <td>385.59</td>\n",
       "      <td>392.31</td>\n",
       "    </tr>\n",
       "    <tr>\n",
       "      <td>47</td>\n",
       "      <td>267.34</td>\n",
       "      <td>481.75</td>\n",
       "      <td>463.38</td>\n",
       "    </tr>\n",
       "  </tbody>\n",
       "</table>\n",
       "</div>"
      ],
      "text/plain": [
       "    Button.left_dwell  Button.left_interval  Button.left_flight\n",
       "11              98.57                441.08              477.79\n",
       "31             105.65                417.91              486.52\n",
       "33              11.28                417.92              429.20\n",
       "27               6.72                385.59              392.31\n",
       "47             267.34                481.75              463.38"
      ]
     },
     "execution_count": 9,
     "metadata": {},
     "output_type": "execute_result"
    }
   ],
   "source": [
    "# удаление столбца is_insider из x_train и x_test\n",
    "x_train.drop(columns = ['is_insider'], inplace = True)\n",
    "x_test.drop(columns = ['is_insider'], inplace = True)\n",
    "x_train.head()"
   ]
  },
  {
   "cell_type": "markdown",
   "metadata": {},
   "source": [
    "### Метрики "
   ]
  },
  {
   "cell_type": "code",
   "execution_count": 10,
   "metadata": {},
   "outputs": [],
   "source": [
    "def report(clf, x_train, y_train, x_test, y_test):\n",
    "    y_pred = clf.fit(x_train, y_train).predict(x_test)\n",
    "    print(\"accuracy train:\", clf.score(x_train,y_train), \"accuracy test\", accuracy_score(y_test, y_pred))\n",
    "    print(classification_report(y_test, y_pred))"
   ]
  },
  {
   "cell_type": "markdown",
   "metadata": {},
   "source": [
    "### Модели"
   ]
  },
  {
   "cell_type": "code",
   "execution_count": 11,
   "metadata": {},
   "outputs": [
    {
     "name": "stderr",
     "output_type": "stream",
     "text": [
      "/Users/azamat/opt/anaconda3/lib/python3.7/site-packages/sklearn/metrics/classification.py:1437: UndefinedMetricWarning: Precision and F-score are ill-defined and being set to 0.0 in labels with no predicted samples.\n",
      "  'precision', 'predicted', average, warn_for)\n"
     ]
    },
    {
     "name": "stdout",
     "output_type": "stream",
     "text": [
      "logistic regression\n",
      "accuracy train: 0.7105263157894737 accuracy test 0.6\n",
      "              precision    recall  f1-score   support\n",
      "\n",
      "           0       0.43      1.00      0.60         3\n",
      "           1       1.00      0.43      0.60         7\n",
      "\n",
      "    accuracy                           0.60        10\n",
      "   macro avg       0.71      0.71      0.60        10\n",
      "weighted avg       0.83      0.60      0.60        10\n",
      "\n",
      "k-nearest neighbors\n",
      "accuracy train: 0.8157894736842105 accuracy test 0.6\n",
      "              precision    recall  f1-score   support\n",
      "\n",
      "           0       0.43      1.00      0.60         3\n",
      "           1       1.00      0.43      0.60         7\n",
      "\n",
      "    accuracy                           0.60        10\n",
      "   macro avg       0.71      0.71      0.60        10\n",
      "weighted avg       0.83      0.60      0.60        10\n",
      "\n",
      "naive bayes\n",
      "accuracy train: 0.5526315789473685 accuracy test 0.3\n",
      "              precision    recall  f1-score   support\n",
      "\n",
      "           0       0.30      1.00      0.46         3\n",
      "           1       0.00      0.00      0.00         7\n",
      "\n",
      "    accuracy                           0.30        10\n",
      "   macro avg       0.15      0.50      0.23        10\n",
      "weighted avg       0.09      0.30      0.14        10\n",
      "\n",
      "support vector machines\n",
      "accuracy train: 0.7368421052631579 accuracy test 0.5\n",
      "              precision    recall  f1-score   support\n",
      "\n",
      "           0       0.33      0.67      0.44         3\n",
      "           1       0.75      0.43      0.55         7\n",
      "\n",
      "    accuracy                           0.50        10\n",
      "   macro avg       0.54      0.55      0.49        10\n",
      "weighted avg       0.62      0.50      0.52        10\n",
      "\n",
      "random forest\n",
      "accuracy train: 0.8421052631578947 accuracy test 0.6\n",
      "              precision    recall  f1-score   support\n",
      "\n",
      "           0       0.43      1.00      0.60         3\n",
      "           1       1.00      0.43      0.60         7\n",
      "\n",
      "    accuracy                           0.60        10\n",
      "   macro avg       0.71      0.71      0.60        10\n",
      "weighted avg       0.83      0.60      0.60        10\n",
      "\n",
      "decision tree\n",
      "accuracy train: 1.0 accuracy test 0.7\n",
      "              precision    recall  f1-score   support\n",
      "\n",
      "           0       0.50      1.00      0.67         3\n",
      "           1       1.00      0.57      0.73         7\n",
      "\n",
      "    accuracy                           0.70        10\n",
      "   macro avg       0.75      0.79      0.70        10\n",
      "weighted avg       0.85      0.70      0.71        10\n",
      "\n",
      "adaptive boosting\n",
      "accuracy train: 1.0 accuracy test 0.7\n",
      "              precision    recall  f1-score   support\n",
      "\n",
      "           0       0.50      1.00      0.67         3\n",
      "           1       1.00      0.57      0.73         7\n",
      "\n",
      "    accuracy                           0.70        10\n",
      "   macro avg       0.75      0.79      0.70        10\n",
      "weighted avg       0.85      0.70      0.71        10\n",
      "\n",
      "gradient boosting\n",
      "accuracy train: 1.0 accuracy test 0.7\n",
      "              precision    recall  f1-score   support\n",
      "\n",
      "           0       0.50      1.00      0.67         3\n",
      "           1       1.00      0.57      0.73         7\n",
      "\n",
      "    accuracy                           0.70        10\n",
      "   macro avg       0.75      0.79      0.70        10\n",
      "weighted avg       0.85      0.70      0.71        10\n",
      "\n",
      "multi-layer perceptron\n",
      "accuracy train: 0.5263157894736842 accuracy test 0.4\n",
      "              precision    recall  f1-score   support\n",
      "\n",
      "           0       0.29      0.67      0.40         3\n",
      "           1       0.67      0.29      0.40         7\n",
      "\n",
      "    accuracy                           0.40        10\n",
      "   macro avg       0.48      0.48      0.40        10\n",
      "weighted avg       0.55      0.40      0.40        10\n",
      "\n"
     ]
    }
   ],
   "source": [
    "models = {\n",
    "    'logistic regression': LogisticRegression(solver='lbfgs', random_state=0),\n",
    "    'k-nearest neighbors': KNeighborsClassifier(n_neighbors=3),\n",
    "    'naive bayes': BernoulliNB(),\n",
    "    'support vector machines': SVC(kernel='linear', gamma='auto'),\n",
    "    'random forest': RandomForestClassifier(max_depth=2, n_estimators = 200, random_state=0),\n",
    "    'decision tree': DecisionTreeClassifier(),\n",
    "    'adaptive boosting': AdaBoostClassifier(DecisionTreeClassifier(), algorithm=\"SAMME\", n_estimators=200),\n",
    "    'gradient boosting': GradientBoostingClassifier(n_estimators=200, learning_rate=1.0, max_depth=1, random_state=0),\n",
    "    'multi-layer perceptron': MLPClassifier(alpha=0.1, max_iter=10000),\n",
    "}\n",
    "\n",
    "for k,v in models.items():\n",
    "    print(k)\n",
    "    report(v, x_train, y_train, x_test, y_test)"
   ]
  },
  {
   "cell_type": "code",
   "execution_count": null,
   "metadata": {},
   "outputs": [],
   "source": []
  }
 ],
 "metadata": {
  "kernelspec": {
   "display_name": "Python 3",
   "language": "python",
   "name": "python3"
  },
  "language_info": {
   "codemirror_mode": {
    "name": "ipython",
    "version": 3
   },
   "file_extension": ".py",
   "mimetype": "text/x-python",
   "name": "python",
   "nbconvert_exporter": "python",
   "pygments_lexer": "ipython3",
   "version": "3.7.4"
  }
 },
 "nbformat": 4,
 "nbformat_minor": 2
}
