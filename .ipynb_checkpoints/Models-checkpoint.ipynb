{
 "cells": [
  {
   "cell_type": "code",
   "execution_count": 1,
   "metadata": {},
   "outputs": [],
   "source": [
    "import pandas as pd\n",
    "import seaborn as sn\n",
    "import matplotlib.pyplot as plt\n",
    "from sklearn.linear_model import LogisticRegression\n",
    "from sklearn.metrics import accuracy_score\n",
    "from sklearn.metrics import classification_report\n",
    "from sklearn.metrics import confusion_matrix\n",
    "from sklearn.model_selection import train_test_split"
   ]
  },
  {
   "cell_type": "markdown",
   "metadata": {},
   "source": [
    "### Датасет"
   ]
  },
  {
   "cell_type": "code",
   "execution_count": 2,
   "metadata": {},
   "outputs": [
    {
     "data": {
      "text/html": [
       "<div>\n",
       "<style scoped>\n",
       "    .dataframe tbody tr th:only-of-type {\n",
       "        vertical-align: middle;\n",
       "    }\n",
       "\n",
       "    .dataframe tbody tr th {\n",
       "        vertical-align: top;\n",
       "    }\n",
       "\n",
       "    .dataframe thead th {\n",
       "        text-align: right;\n",
       "    }\n",
       "</style>\n",
       "<table border=\"1\" class=\"dataframe\">\n",
       "  <thead>\n",
       "    <tr style=\"text-align: right;\">\n",
       "      <th></th>\n",
       "      <th>Button.left_dwell</th>\n",
       "      <th>Button.left_interval</th>\n",
       "      <th>Button.left_flight</th>\n",
       "      <th>Key.tab</th>\n",
       "      <th>Key.tab_dwell</th>\n",
       "      <th>Key.tab.1</th>\n",
       "      <th>Key.tab_interval</th>\n",
       "      <th>Key.tab.2</th>\n",
       "      <th>Key.tab_flight</th>\n",
       "      <th>Key.shift</th>\n",
       "      <th>...</th>\n",
       "      <th>Key.enter_interval</th>\n",
       "      <th>Key.enter.2</th>\n",
       "      <th>Key.enter_flight</th>\n",
       "      <th>Key.backspace</th>\n",
       "      <th>Key.backspace_dwell</th>\n",
       "      <th>Key.backspace.1</th>\n",
       "      <th>Key.backspace_interval</th>\n",
       "      <th>Key.backspace.2</th>\n",
       "      <th>Key.backspace_flight</th>\n",
       "      <th>is_insider</th>\n",
       "    </tr>\n",
       "  </thead>\n",
       "  <tbody>\n",
       "    <tr>\n",
       "      <td>0</td>\n",
       "      <td>82.18</td>\n",
       "      <td>472.27</td>\n",
       "      <td>469.34</td>\n",
       "      <td>16</td>\n",
       "      <td>86.31</td>\n",
       "      <td>16</td>\n",
       "      <td>478.56</td>\n",
       "      <td>16</td>\n",
       "      <td>502.38</td>\n",
       "      <td>215</td>\n",
       "      <td>...</td>\n",
       "      <td>448.26</td>\n",
       "      <td>50</td>\n",
       "      <td>479.96</td>\n",
       "      <td>373</td>\n",
       "      <td>65.12</td>\n",
       "      <td>373</td>\n",
       "      <td>190.68</td>\n",
       "      <td>373</td>\n",
       "      <td>247.75</td>\n",
       "      <td>0</td>\n",
       "    </tr>\n",
       "    <tr>\n",
       "      <td>1</td>\n",
       "      <td>75.87</td>\n",
       "      <td>479.03</td>\n",
       "      <td>460.12</td>\n",
       "      <td>0</td>\n",
       "      <td>0.00</td>\n",
       "      <td>0</td>\n",
       "      <td>0.00</td>\n",
       "      <td>0</td>\n",
       "      <td>0.00</td>\n",
       "      <td>59</td>\n",
       "      <td>...</td>\n",
       "      <td>10.00</td>\n",
       "      <td>2</td>\n",
       "      <td>52.00</td>\n",
       "      <td>74</td>\n",
       "      <td>67.15</td>\n",
       "      <td>74</td>\n",
       "      <td>203.36</td>\n",
       "      <td>74</td>\n",
       "      <td>243.49</td>\n",
       "      <td>0</td>\n",
       "    </tr>\n",
       "    <tr>\n",
       "      <td>2</td>\n",
       "      <td>94.25</td>\n",
       "      <td>477.76</td>\n",
       "      <td>422.48</td>\n",
       "      <td>2</td>\n",
       "      <td>70.50</td>\n",
       "      <td>2</td>\n",
       "      <td>414.50</td>\n",
       "      <td>2</td>\n",
       "      <td>485.00</td>\n",
       "      <td>79</td>\n",
       "      <td>...</td>\n",
       "      <td>405.86</td>\n",
       "      <td>36</td>\n",
       "      <td>446.53</td>\n",
       "      <td>139</td>\n",
       "      <td>65.89</td>\n",
       "      <td>139</td>\n",
       "      <td>174.32</td>\n",
       "      <td>139</td>\n",
       "      <td>225.83</td>\n",
       "      <td>0</td>\n",
       "    </tr>\n",
       "    <tr>\n",
       "      <td>3</td>\n",
       "      <td>10.33</td>\n",
       "      <td>556.47</td>\n",
       "      <td>514.17</td>\n",
       "      <td>165</td>\n",
       "      <td>175.98</td>\n",
       "      <td>165</td>\n",
       "      <td>477.89</td>\n",
       "      <td>165</td>\n",
       "      <td>496.30</td>\n",
       "      <td>131</td>\n",
       "      <td>...</td>\n",
       "      <td>417.72</td>\n",
       "      <td>50</td>\n",
       "      <td>368.06</td>\n",
       "      <td>221</td>\n",
       "      <td>139.16</td>\n",
       "      <td>221</td>\n",
       "      <td>290.35</td>\n",
       "      <td>221</td>\n",
       "      <td>393.31</td>\n",
       "      <td>0</td>\n",
       "    </tr>\n",
       "    <tr>\n",
       "      <td>4</td>\n",
       "      <td>27.35</td>\n",
       "      <td>464.80</td>\n",
       "      <td>492.16</td>\n",
       "      <td>12</td>\n",
       "      <td>153.42</td>\n",
       "      <td>12</td>\n",
       "      <td>510.17</td>\n",
       "      <td>12</td>\n",
       "      <td>413.58</td>\n",
       "      <td>16</td>\n",
       "      <td>...</td>\n",
       "      <td>454.00</td>\n",
       "      <td>2</td>\n",
       "      <td>496.00</td>\n",
       "      <td>4</td>\n",
       "      <td>73.25</td>\n",
       "      <td>4</td>\n",
       "      <td>360.00</td>\n",
       "      <td>4</td>\n",
       "      <td>433.25</td>\n",
       "      <td>0</td>\n",
       "    </tr>\n",
       "  </tbody>\n",
       "</table>\n",
       "<p>5 rows × 46 columns</p>\n",
       "</div>"
      ],
      "text/plain": [
       "   Button.left_dwell  Button.left_interval  Button.left_flight  Key.tab  \\\n",
       "0              82.18                472.27              469.34       16   \n",
       "1              75.87                479.03              460.12        0   \n",
       "2              94.25                477.76              422.48        2   \n",
       "3              10.33                556.47              514.17      165   \n",
       "4              27.35                464.80              492.16       12   \n",
       "\n",
       "   Key.tab_dwell  Key.tab.1  Key.tab_interval  Key.tab.2  Key.tab_flight  \\\n",
       "0          86.31         16            478.56         16          502.38   \n",
       "1           0.00          0              0.00          0            0.00   \n",
       "2          70.50          2            414.50          2          485.00   \n",
       "3         175.98        165            477.89        165          496.30   \n",
       "4         153.42         12            510.17         12          413.58   \n",
       "\n",
       "   Key.shift  ...  Key.enter_interval  Key.enter.2  Key.enter_flight  \\\n",
       "0        215  ...              448.26           50            479.96   \n",
       "1         59  ...               10.00            2             52.00   \n",
       "2         79  ...              405.86           36            446.53   \n",
       "3        131  ...              417.72           50            368.06   \n",
       "4         16  ...              454.00            2            496.00   \n",
       "\n",
       "   Key.backspace  Key.backspace_dwell  Key.backspace.1  \\\n",
       "0            373                65.12              373   \n",
       "1             74                67.15               74   \n",
       "2            139                65.89              139   \n",
       "3            221               139.16              221   \n",
       "4              4                73.25                4   \n",
       "\n",
       "   Key.backspace_interval  Key.backspace.2  Key.backspace_flight  is_insider  \n",
       "0                  190.68              373                247.75           0  \n",
       "1                  203.36               74                243.49           0  \n",
       "2                  174.32              139                225.83           0  \n",
       "3                  290.35              221                393.31           0  \n",
       "4                  360.00                4                433.25           0  \n",
       "\n",
       "[5 rows x 46 columns]"
      ]
     },
     "execution_count": 2,
     "metadata": {},
     "output_type": "execute_result"
    }
   ],
   "source": [
    "df = pd.read_csv(\"./features.csv\", sep=\"|\")\n",
    "df.head()"
   ]
  },
  {
   "cell_type": "code",
   "execution_count": 3,
   "metadata": {},
   "outputs": [],
   "source": [
    "x = df.loc[:, df.columns != 'is_insider']\n",
    "y = df['is_insider']\n",
    "x_train, x_test, y_train, y_test = train_test_split(x, y, random_state = 0, test_size = 0.25)"
   ]
  },
  {
   "cell_type": "markdown",
   "metadata": {},
   "source": [
    "### Метрики "
   ]
  },
  {
   "cell_type": "code",
   "execution_count": 4,
   "metadata": {},
   "outputs": [],
   "source": [
    "def report(clf, x_train, y_train, x_test, y_test):\n",
    "    y_pred = clf.fit(x_train, y_train).predict(x_test)\n",
    "    print(\"accuracy train:\", clf.score(x_train,y_train), \"accuracy test\", accuracy_score(y_test, y_pred))\n",
    "    print(classification_report(y_test, y_pred))"
   ]
  },
  {
   "cell_type": "markdown",
   "metadata": {},
   "source": [
    "### Логистическая регрессия"
   ]
  },
  {
   "cell_type": "code",
   "execution_count": 5,
   "metadata": {},
   "outputs": [
    {
     "name": "stdout",
     "output_type": "stream",
     "text": [
      "accuracy train: 1.0 accuracy test 0.6363636363636364\n",
      "              precision    recall  f1-score   support\n",
      "\n",
      "           0       0.60      0.60      0.60         5\n",
      "           1       0.67      0.67      0.67         6\n",
      "\n",
      "    accuracy                           0.64        11\n",
      "   macro avg       0.63      0.63      0.63        11\n",
      "weighted avg       0.64      0.64      0.64        11\n",
      "\n"
     ]
    },
    {
     "name": "stderr",
     "output_type": "stream",
     "text": [
      "/Users/azamat/opt/anaconda3/lib/python3.7/site-packages/sklearn/linear_model/logistic.py:947: ConvergenceWarning: lbfgs failed to converge. Increase the number of iterations.\n",
      "  \"of iterations.\", ConvergenceWarning)\n",
      "/Users/azamat/opt/anaconda3/lib/python3.7/site-packages/sklearn/linear_model/logistic.py:947: ConvergenceWarning: lbfgs failed to converge. Increase the number of iterations.\n",
      "  \"of iterations.\", ConvergenceWarning)\n"
     ]
    }
   ],
   "source": [
    "clf = LogisticRegression(solver='lbfgs', random_state=0).fit(x_train, y_train)\n",
    "report(clf, x_train, y_train, x_test, y_test)"
   ]
  },
  {
   "cell_type": "markdown",
   "metadata": {},
   "source": [
    "### Naive Bayes Classifier "
   ]
  },
  {
   "cell_type": "code",
   "execution_count": 6,
   "metadata": {},
   "outputs": [
    {
     "name": "stdout",
     "output_type": "stream",
     "text": [
      "accuracy train: 0.96 accuracy test 0.6363636363636364\n",
      "              precision    recall  f1-score   support\n",
      "\n",
      "           0       0.60      0.60      0.60         5\n",
      "           1       0.67      0.67      0.67         6\n",
      "\n",
      "    accuracy                           0.64        11\n",
      "   macro avg       0.63      0.63      0.63        11\n",
      "weighted avg       0.64      0.64      0.64        11\n",
      "\n"
     ]
    }
   ],
   "source": [
    "from sklearn.naive_bayes import GaussianNB\n",
    "clf = GaussianNB()\n",
    "report(clf, x_train, y_train, x_test, y_test)"
   ]
  },
  {
   "cell_type": "markdown",
   "metadata": {},
   "source": [
    "### Support Vector Classification "
   ]
  },
  {
   "cell_type": "code",
   "execution_count": 7,
   "metadata": {},
   "outputs": [
    {
     "name": "stdout",
     "output_type": "stream",
     "text": [
      "accuracy train: 1.0 accuracy test 0.45454545454545453\n",
      "              precision    recall  f1-score   support\n",
      "\n",
      "           0       0.45      1.00      0.62         5\n",
      "           1       0.00      0.00      0.00         6\n",
      "\n",
      "    accuracy                           0.45        11\n",
      "   macro avg       0.23      0.50      0.31        11\n",
      "weighted avg       0.21      0.45      0.28        11\n",
      "\n"
     ]
    },
    {
     "name": "stderr",
     "output_type": "stream",
     "text": [
      "/Users/azamat/opt/anaconda3/lib/python3.7/site-packages/sklearn/metrics/classification.py:1437: UndefinedMetricWarning: Precision and F-score are ill-defined and being set to 0.0 in labels with no predicted samples.\n",
      "  'precision', 'predicted', average, warn_for)\n"
     ]
    }
   ],
   "source": [
    "from sklearn.svm import SVC\n",
    "clf = SVC(gamma='auto')\n",
    "report(clf, x_train, y_train, x_test, y_test)"
   ]
  },
  {
   "cell_type": "markdown",
   "metadata": {},
   "source": [
    "### Random Forest Classifier"
   ]
  },
  {
   "cell_type": "code",
   "execution_count": 8,
   "metadata": {},
   "outputs": [
    {
     "name": "stdout",
     "output_type": "stream",
     "text": [
      "accuracy train: 0.96 accuracy test 0.8181818181818182\n",
      "              precision    recall  f1-score   support\n",
      "\n",
      "           0       1.00      0.60      0.75         5\n",
      "           1       0.75      1.00      0.86         6\n",
      "\n",
      "    accuracy                           0.82        11\n",
      "   macro avg       0.88      0.80      0.80        11\n",
      "weighted avg       0.86      0.82      0.81        11\n",
      "\n"
     ]
    }
   ],
   "source": [
    "from sklearn.ensemble import RandomForestClassifier\n",
    "clf = RandomForestClassifier(max_depth=2, n_estimators = 200, random_state=0)\n",
    "report(clf, x_train, y_train, x_test, y_test)"
   ]
  },
  {
   "cell_type": "markdown",
   "metadata": {},
   "source": [
    "### AdaBoost "
   ]
  },
  {
   "cell_type": "code",
   "execution_count": 9,
   "metadata": {},
   "outputs": [
    {
     "name": "stdout",
     "output_type": "stream",
     "text": [
      "accuracy train: 1.0 accuracy test 0.7272727272727273\n",
      "              precision    recall  f1-score   support\n",
      "\n",
      "           0       0.75      0.60      0.67         5\n",
      "           1       0.71      0.83      0.77         6\n",
      "\n",
      "    accuracy                           0.73        11\n",
      "   macro avg       0.73      0.72      0.72        11\n",
      "weighted avg       0.73      0.73      0.72        11\n",
      "\n"
     ]
    }
   ],
   "source": [
    "from sklearn.ensemble import AdaBoostClassifier\n",
    "from sklearn.tree import DecisionTreeClassifier\n",
    "clf = AdaBoostClassifier(DecisionTreeClassifier(max_depth=1),\n",
    "                         algorithm=\"SAMME\",\n",
    "                         n_estimators=200)\n",
    "report(clf, x_train, y_train, x_test, y_test)"
   ]
  },
  {
   "cell_type": "markdown",
   "metadata": {},
   "source": [
    "### Gradient Boosting Classifier "
   ]
  },
  {
   "cell_type": "code",
   "execution_count": 10,
   "metadata": {},
   "outputs": [
    {
     "name": "stdout",
     "output_type": "stream",
     "text": [
      "accuracy train: 1.0 accuracy test 0.6363636363636364\n",
      "              precision    recall  f1-score   support\n",
      "\n",
      "           0       0.60      0.60      0.60         5\n",
      "           1       0.67      0.67      0.67         6\n",
      "\n",
      "    accuracy                           0.64        11\n",
      "   macro avg       0.63      0.63      0.63        11\n",
      "weighted avg       0.64      0.64      0.64        11\n",
      "\n"
     ]
    }
   ],
   "source": [
    "from sklearn.ensemble import GradientBoostingClassifier\n",
    "clf = GradientBoostingClassifier(n_estimators=200, learning_rate=1.0, max_depth=1, random_state=0)\n",
    "report(clf, x_train, y_train, x_test, y_test)"
   ]
  },
  {
   "cell_type": "code",
   "execution_count": null,
   "metadata": {},
   "outputs": [],
   "source": []
  }
 ],
 "metadata": {
  "kernelspec": {
   "display_name": "Python 3",
   "language": "python",
   "name": "python3"
  },
  "language_info": {
   "codemirror_mode": {
    "name": "ipython",
    "version": 3
   },
   "file_extension": ".py",
   "mimetype": "text/x-python",
   "name": "python",
   "nbconvert_exporter": "python",
   "pygments_lexer": "ipython3",
   "version": "3.7.4"
  }
 },
 "nbformat": 4,
 "nbformat_minor": 2
}
