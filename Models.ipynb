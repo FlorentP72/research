{
 "cells": [
  {
   "cell_type": "code",
   "execution_count": 1,
   "metadata": {},
   "outputs": [],
   "source": [
    "import pandas as pd\n",
    "import seaborn as sn\n",
    "import matplotlib.pyplot as plt\n",
    "from sklearn.linear_model import LogisticRegression\n",
    "from sklearn.metrics import accuracy_score\n",
    "from sklearn.metrics import classification_report\n",
    "from sklearn.metrics import confusion_matrix\n",
    "from sklearn.model_selection import train_test_split"
   ]
  },
  {
   "cell_type": "markdown",
   "metadata": {},
   "source": [
    "### Датасет"
   ]
  },
  {
   "cell_type": "code",
   "execution_count": 2,
   "metadata": {},
   "outputs": [
    {
     "data": {
      "text/html": [
       "<div>\n",
       "<style scoped>\n",
       "    .dataframe tbody tr th:only-of-type {\n",
       "        vertical-align: middle;\n",
       "    }\n",
       "\n",
       "    .dataframe tbody tr th {\n",
       "        vertical-align: top;\n",
       "    }\n",
       "\n",
       "    .dataframe thead th {\n",
       "        text-align: right;\n",
       "    }\n",
       "</style>\n",
       "<table border=\"1\" class=\"dataframe\">\n",
       "  <thead>\n",
       "    <tr style=\"text-align: right;\">\n",
       "      <th></th>\n",
       "      <th>Button.left_dwell</th>\n",
       "      <th>Button.left_interval</th>\n",
       "      <th>Button.left_flight</th>\n",
       "      <th>Button.right_dwell</th>\n",
       "      <th>Button.right_interval</th>\n",
       "      <th>Button.right_flight</th>\n",
       "      <th>Key.esc_dwell</th>\n",
       "      <th>Key.esc_interval</th>\n",
       "      <th>Key.esc_flight</th>\n",
       "      <th>Key.tab_dwell</th>\n",
       "      <th>...</th>\n",
       "      <th>год_dwell_second</th>\n",
       "      <th>год_dwell_third</th>\n",
       "      <th>год_interval_first</th>\n",
       "      <th>год_interval_second</th>\n",
       "      <th>год_flight_first</th>\n",
       "      <th>год_flight_second</th>\n",
       "      <th>год_up_to_up_first</th>\n",
       "      <th>год_up_to_up_second</th>\n",
       "      <th>год_latency</th>\n",
       "      <th>is_insider</th>\n",
       "    </tr>\n",
       "  </thead>\n",
       "  <tbody>\n",
       "    <tr>\n",
       "      <td>0</td>\n",
       "      <td>82.18</td>\n",
       "      <td>472.27</td>\n",
       "      <td>469.34</td>\n",
       "      <td>0.0</td>\n",
       "      <td>0.0</td>\n",
       "      <td>0.0</td>\n",
       "      <td>0.0</td>\n",
       "      <td>0.0</td>\n",
       "      <td>0.0</td>\n",
       "      <td>86.31</td>\n",
       "      <td>...</td>\n",
       "      <td>0.0</td>\n",
       "      <td>0.0</td>\n",
       "      <td>0.0</td>\n",
       "      <td>0.0</td>\n",
       "      <td>0.0</td>\n",
       "      <td>0.0</td>\n",
       "      <td>0.0</td>\n",
       "      <td>0.0</td>\n",
       "      <td>0.0</td>\n",
       "      <td>0</td>\n",
       "    </tr>\n",
       "    <tr>\n",
       "      <td>1</td>\n",
       "      <td>75.87</td>\n",
       "      <td>479.03</td>\n",
       "      <td>460.12</td>\n",
       "      <td>0.0</td>\n",
       "      <td>0.0</td>\n",
       "      <td>0.0</td>\n",
       "      <td>0.0</td>\n",
       "      <td>0.0</td>\n",
       "      <td>0.0</td>\n",
       "      <td>0.00</td>\n",
       "      <td>...</td>\n",
       "      <td>0.0</td>\n",
       "      <td>0.0</td>\n",
       "      <td>0.0</td>\n",
       "      <td>0.0</td>\n",
       "      <td>0.0</td>\n",
       "      <td>0.0</td>\n",
       "      <td>0.0</td>\n",
       "      <td>0.0</td>\n",
       "      <td>0.0</td>\n",
       "      <td>0</td>\n",
       "    </tr>\n",
       "    <tr>\n",
       "      <td>2</td>\n",
       "      <td>94.25</td>\n",
       "      <td>477.76</td>\n",
       "      <td>422.48</td>\n",
       "      <td>0.0</td>\n",
       "      <td>0.0</td>\n",
       "      <td>0.0</td>\n",
       "      <td>0.0</td>\n",
       "      <td>0.0</td>\n",
       "      <td>0.0</td>\n",
       "      <td>70.50</td>\n",
       "      <td>...</td>\n",
       "      <td>60.5</td>\n",
       "      <td>81.0</td>\n",
       "      <td>72.5</td>\n",
       "      <td>133.5</td>\n",
       "      <td>135.0</td>\n",
       "      <td>194.0</td>\n",
       "      <td>133.0</td>\n",
       "      <td>214.5</td>\n",
       "      <td>410.0</td>\n",
       "      <td>0</td>\n",
       "    </tr>\n",
       "    <tr>\n",
       "      <td>3</td>\n",
       "      <td>10.33</td>\n",
       "      <td>556.47</td>\n",
       "      <td>514.17</td>\n",
       "      <td>0.0</td>\n",
       "      <td>0.0</td>\n",
       "      <td>0.0</td>\n",
       "      <td>0.0</td>\n",
       "      <td>0.0</td>\n",
       "      <td>0.0</td>\n",
       "      <td>175.98</td>\n",
       "      <td>...</td>\n",
       "      <td>0.0</td>\n",
       "      <td>0.0</td>\n",
       "      <td>0.0</td>\n",
       "      <td>0.0</td>\n",
       "      <td>0.0</td>\n",
       "      <td>0.0</td>\n",
       "      <td>0.0</td>\n",
       "      <td>0.0</td>\n",
       "      <td>0.0</td>\n",
       "      <td>0</td>\n",
       "    </tr>\n",
       "    <tr>\n",
       "      <td>4</td>\n",
       "      <td>27.35</td>\n",
       "      <td>464.80</td>\n",
       "      <td>492.16</td>\n",
       "      <td>0.0</td>\n",
       "      <td>0.0</td>\n",
       "      <td>0.0</td>\n",
       "      <td>0.0</td>\n",
       "      <td>0.0</td>\n",
       "      <td>0.0</td>\n",
       "      <td>153.42</td>\n",
       "      <td>...</td>\n",
       "      <td>0.0</td>\n",
       "      <td>0.0</td>\n",
       "      <td>0.0</td>\n",
       "      <td>0.0</td>\n",
       "      <td>0.0</td>\n",
       "      <td>0.0</td>\n",
       "      <td>0.0</td>\n",
       "      <td>0.0</td>\n",
       "      <td>0.0</td>\n",
       "      <td>0</td>\n",
       "    </tr>\n",
       "  </tbody>\n",
       "</table>\n",
       "<p>5 rows × 309 columns</p>\n",
       "</div>"
      ],
      "text/plain": [
       "   Button.left_dwell  Button.left_interval  Button.left_flight  \\\n",
       "0              82.18                472.27              469.34   \n",
       "1              75.87                479.03              460.12   \n",
       "2              94.25                477.76              422.48   \n",
       "3              10.33                556.47              514.17   \n",
       "4              27.35                464.80              492.16   \n",
       "\n",
       "   Button.right_dwell  Button.right_interval  Button.right_flight  \\\n",
       "0                 0.0                    0.0                  0.0   \n",
       "1                 0.0                    0.0                  0.0   \n",
       "2                 0.0                    0.0                  0.0   \n",
       "3                 0.0                    0.0                  0.0   \n",
       "4                 0.0                    0.0                  0.0   \n",
       "\n",
       "   Key.esc_dwell  Key.esc_interval  Key.esc_flight  Key.tab_dwell  ...  \\\n",
       "0            0.0               0.0             0.0          86.31  ...   \n",
       "1            0.0               0.0             0.0           0.00  ...   \n",
       "2            0.0               0.0             0.0          70.50  ...   \n",
       "3            0.0               0.0             0.0         175.98  ...   \n",
       "4            0.0               0.0             0.0         153.42  ...   \n",
       "\n",
       "   год_dwell_second  год_dwell_third  год_interval_first  год_interval_second  \\\n",
       "0               0.0              0.0                 0.0                  0.0   \n",
       "1               0.0              0.0                 0.0                  0.0   \n",
       "2              60.5             81.0                72.5                133.5   \n",
       "3               0.0              0.0                 0.0                  0.0   \n",
       "4               0.0              0.0                 0.0                  0.0   \n",
       "\n",
       "   год_flight_first  год_flight_second  год_up_to_up_first  \\\n",
       "0               0.0                0.0                 0.0   \n",
       "1               0.0                0.0                 0.0   \n",
       "2             135.0              194.0               133.0   \n",
       "3               0.0                0.0                 0.0   \n",
       "4               0.0                0.0                 0.0   \n",
       "\n",
       "   год_up_to_up_second  год_latency  is_insider  \n",
       "0                  0.0          0.0           0  \n",
       "1                  0.0          0.0           0  \n",
       "2                214.5        410.0           0  \n",
       "3                  0.0          0.0           0  \n",
       "4                  0.0          0.0           0  \n",
       "\n",
       "[5 rows x 309 columns]"
      ]
     },
     "execution_count": 2,
     "metadata": {},
     "output_type": "execute_result"
    }
   ],
   "source": [
    "df = pd.read_csv(\"./features.csv\", sep=\"|\")\n",
    "df.head()"
   ]
  },
  {
   "cell_type": "code",
   "execution_count": 3,
   "metadata": {},
   "outputs": [],
   "source": [
    "x = df.loc[:, df.columns != 'is_insider']\n",
    "y = df['is_insider']\n",
    "x_train, x_test, y_train, y_test = train_test_split(x, y, random_state = 0, test_size = 0.3)"
   ]
  },
  {
   "cell_type": "markdown",
   "metadata": {},
   "source": [
    "### Метрики "
   ]
  },
  {
   "cell_type": "code",
   "execution_count": 4,
   "metadata": {},
   "outputs": [],
   "source": [
    "def report(clf, x_train, y_train, x_test, y_test):\n",
    "    y_pred = clf.fit(x_train, y_train).predict(x_test)\n",
    "    print(\"accuracy train:\", clf.score(x_train,y_train), \"accuracy test\", accuracy_score(y_test, y_pred))\n",
    "    print(classification_report(y_test, y_pred))"
   ]
  },
  {
   "cell_type": "markdown",
   "metadata": {},
   "source": [
    "### Логистическая регрессия"
   ]
  },
  {
   "cell_type": "code",
   "execution_count": 5,
   "metadata": {},
   "outputs": [
    {
     "name": "stdout",
     "output_type": "stream",
     "text": [
      "accuracy train: 1.0 accuracy test 0.6363636363636364\n",
      "              precision    recall  f1-score   support\n",
      "\n",
      "           0       0.60      0.60      0.60         5\n",
      "           1       0.67      0.67      0.67         6\n",
      "\n",
      "    accuracy                           0.64        11\n",
      "   macro avg       0.63      0.63      0.63        11\n",
      "weighted avg       0.64      0.64      0.64        11\n",
      "\n"
     ]
    }
   ],
   "source": [
    "clf = LogisticRegression(solver='lbfgs', random_state=0).fit(x_train, y_train)\n",
    "report(clf, x_train, y_train, x_test, y_test)"
   ]
  },
  {
   "cell_type": "markdown",
   "metadata": {},
   "source": [
    "### Naive Bayes Classifier "
   ]
  },
  {
   "cell_type": "code",
   "execution_count": 6,
   "metadata": {},
   "outputs": [
    {
     "name": "stdout",
     "output_type": "stream",
     "text": [
      "accuracy train: 0.88 accuracy test 0.6363636363636364\n",
      "              precision    recall  f1-score   support\n",
      "\n",
      "           0       0.60      0.60      0.60         5\n",
      "           1       0.67      0.67      0.67         6\n",
      "\n",
      "    accuracy                           0.64        11\n",
      "   macro avg       0.63      0.63      0.63        11\n",
      "weighted avg       0.64      0.64      0.64        11\n",
      "\n"
     ]
    }
   ],
   "source": [
    "from sklearn.naive_bayes import GaussianNB\n",
    "clf = GaussianNB()\n",
    "report(clf, x_train, y_train, x_test, y_test)"
   ]
  },
  {
   "cell_type": "markdown",
   "metadata": {},
   "source": [
    "### Support Vector Classification "
   ]
  },
  {
   "cell_type": "code",
   "execution_count": 7,
   "metadata": {},
   "outputs": [
    {
     "name": "stdout",
     "output_type": "stream",
     "text": [
      "accuracy train: 1.0 accuracy test 0.45454545454545453\n",
      "              precision    recall  f1-score   support\n",
      "\n",
      "           0       0.45      1.00      0.62         5\n",
      "           1       0.00      0.00      0.00         6\n",
      "\n",
      "    accuracy                           0.45        11\n",
      "   macro avg       0.23      0.50      0.31        11\n",
      "weighted avg       0.21      0.45      0.28        11\n",
      "\n"
     ]
    },
    {
     "name": "stderr",
     "output_type": "stream",
     "text": [
      "/Users/azamat/opt/anaconda3/lib/python3.7/site-packages/sklearn/metrics/classification.py:1437: UndefinedMetricWarning: Precision and F-score are ill-defined and being set to 0.0 in labels with no predicted samples.\n",
      "  'precision', 'predicted', average, warn_for)\n"
     ]
    }
   ],
   "source": [
    "from sklearn.svm import SVC\n",
    "clf = SVC(gamma='auto')\n",
    "report(clf, x_train, y_train, x_test, y_test)"
   ]
  },
  {
   "cell_type": "markdown",
   "metadata": {},
   "source": [
    "### Random Forest Classifier"
   ]
  },
  {
   "cell_type": "code",
   "execution_count": 8,
   "metadata": {},
   "outputs": [
    {
     "name": "stdout",
     "output_type": "stream",
     "text": [
      "accuracy train: 1.0 accuracy test 0.9090909090909091\n",
      "              precision    recall  f1-score   support\n",
      "\n",
      "           0       0.83      1.00      0.91         5\n",
      "           1       1.00      0.83      0.91         6\n",
      "\n",
      "    accuracy                           0.91        11\n",
      "   macro avg       0.92      0.92      0.91        11\n",
      "weighted avg       0.92      0.91      0.91        11\n",
      "\n"
     ]
    }
   ],
   "source": [
    "from sklearn.ensemble import RandomForestClassifier\n",
    "clf = RandomForestClassifier(max_depth=2, n_estimators = 200, random_state=0)\n",
    "report(clf, x_train, y_train, x_test, y_test)"
   ]
  },
  {
   "cell_type": "markdown",
   "metadata": {},
   "source": [
    "### AdaBoost "
   ]
  },
  {
   "cell_type": "code",
   "execution_count": 9,
   "metadata": {},
   "outputs": [
    {
     "name": "stdout",
     "output_type": "stream",
     "text": [
      "accuracy train: 1.0 accuracy test 0.6363636363636364\n",
      "              precision    recall  f1-score   support\n",
      "\n",
      "           0       0.57      0.80      0.67         5\n",
      "           1       0.75      0.50      0.60         6\n",
      "\n",
      "    accuracy                           0.64        11\n",
      "   macro avg       0.66      0.65      0.63        11\n",
      "weighted avg       0.67      0.64      0.63        11\n",
      "\n"
     ]
    }
   ],
   "source": [
    "from sklearn.ensemble import AdaBoostClassifier\n",
    "from sklearn.tree import DecisionTreeClassifier\n",
    "clf = AdaBoostClassifier(DecisionTreeClassifier(max_depth=1),\n",
    "                         algorithm=\"SAMME\",\n",
    "                         n_estimators=200)\n",
    "report(clf, x_train, y_train, x_test, y_test)"
   ]
  },
  {
   "cell_type": "markdown",
   "metadata": {},
   "source": [
    "### Gradient Boosting Classifier "
   ]
  },
  {
   "cell_type": "code",
   "execution_count": 10,
   "metadata": {},
   "outputs": [
    {
     "name": "stdout",
     "output_type": "stream",
     "text": [
      "accuracy train: 1.0 accuracy test 0.7272727272727273\n",
      "              precision    recall  f1-score   support\n",
      "\n",
      "           0       0.67      0.80      0.73         5\n",
      "           1       0.80      0.67      0.73         6\n",
      "\n",
      "    accuracy                           0.73        11\n",
      "   macro avg       0.73      0.73      0.73        11\n",
      "weighted avg       0.74      0.73      0.73        11\n",
      "\n"
     ]
    }
   ],
   "source": [
    "from sklearn.ensemble import GradientBoostingClassifier\n",
    "clf = GradientBoostingClassifier(n_estimators=200, learning_rate=1.0, max_depth=1, random_state=0)\n",
    "report(clf, x_train, y_train, x_test, y_test)"
   ]
  },
  {
   "cell_type": "code",
   "execution_count": null,
   "metadata": {},
   "outputs": [],
   "source": []
  }
 ],
 "metadata": {
  "kernelspec": {
   "display_name": "Python 3",
   "language": "python",
   "name": "python3"
  },
  "language_info": {
   "codemirror_mode": {
    "name": "ipython",
    "version": 3
   },
   "file_extension": ".py",
   "mimetype": "text/x-python",
   "name": "python",
   "nbconvert_exporter": "python",
   "pygments_lexer": "ipython3",
   "version": "3.7.4"
  }
 },
 "nbformat": 4,
 "nbformat_minor": 2
}
