{
 "cells": [
  {
   "cell_type": "code",
   "execution_count": 1,
   "metadata": {},
   "outputs": [],
   "source": [
    "import pandas as pd\n",
    "import seaborn as sn\n",
    "import matplotlib.pyplot as plt\n",
    "from sklearn.linear_model import LogisticRegression\n",
    "from sklearn.metrics import accuracy_score\n",
    "from sklearn.metrics import classification_report\n",
    "from sklearn.metrics import confusion_matrix\n",
    "from sklearn.model_selection import train_test_split"
   ]
  },
  {
   "cell_type": "markdown",
   "metadata": {},
   "source": [
    "### Датасет"
   ]
  },
  {
   "cell_type": "code",
   "execution_count": 2,
   "metadata": {},
   "outputs": [
    {
     "data": {
      "text/html": [
       "<div>\n",
       "<style scoped>\n",
       "    .dataframe tbody tr th:only-of-type {\n",
       "        vertical-align: middle;\n",
       "    }\n",
       "\n",
       "    .dataframe tbody tr th {\n",
       "        vertical-align: top;\n",
       "    }\n",
       "\n",
       "    .dataframe thead th {\n",
       "        text-align: right;\n",
       "    }\n",
       "</style>\n",
       "<table border=\"1\" class=\"dataframe\">\n",
       "  <thead>\n",
       "    <tr style=\"text-align: right;\">\n",
       "      <th></th>\n",
       "      <th>Button.left_dwell</th>\n",
       "      <th>Button.left_interval</th>\n",
       "      <th>Button.left_flight</th>\n",
       "      <th>Key.tab</th>\n",
       "      <th>Key.tab_dwell</th>\n",
       "      <th>Key.tab.1</th>\n",
       "      <th>Key.tab_interval</th>\n",
       "      <th>Key.tab.2</th>\n",
       "      <th>Key.tab_flight</th>\n",
       "      <th>Key.shift</th>\n",
       "      <th>...</th>\n",
       "      <th>тор_dwell_second</th>\n",
       "      <th>тор_dwell_third</th>\n",
       "      <th>тор_interval_first</th>\n",
       "      <th>тор_interval_second</th>\n",
       "      <th>тор_flight_first</th>\n",
       "      <th>тор_flight_second</th>\n",
       "      <th>тор_up_to_up_first</th>\n",
       "      <th>тор_up_to_up_second</th>\n",
       "      <th>тор_latency</th>\n",
       "      <th>is_insider</th>\n",
       "    </tr>\n",
       "  </thead>\n",
       "  <tbody>\n",
       "    <tr>\n",
       "      <td>0</td>\n",
       "      <td>82.18</td>\n",
       "      <td>472.27</td>\n",
       "      <td>469.34</td>\n",
       "      <td>16</td>\n",
       "      <td>86.31</td>\n",
       "      <td>16</td>\n",
       "      <td>478.56</td>\n",
       "      <td>16</td>\n",
       "      <td>502.38</td>\n",
       "      <td>215</td>\n",
       "      <td>...</td>\n",
       "      <td>115.0</td>\n",
       "      <td>110.75</td>\n",
       "      <td>372.5</td>\n",
       "      <td>563.25</td>\n",
       "      <td>233.25</td>\n",
       "      <td>178.25</td>\n",
       "      <td>237.5</td>\n",
       "      <td>174.0</td>\n",
       "      <td>522.25</td>\n",
       "      <td>0</td>\n",
       "    </tr>\n",
       "    <tr>\n",
       "      <td>1</td>\n",
       "      <td>75.87</td>\n",
       "      <td>479.03</td>\n",
       "      <td>460.12</td>\n",
       "      <td>0</td>\n",
       "      <td>0.00</td>\n",
       "      <td>0</td>\n",
       "      <td>0.00</td>\n",
       "      <td>0</td>\n",
       "      <td>0.00</td>\n",
       "      <td>59</td>\n",
       "      <td>...</td>\n",
       "      <td>0.0</td>\n",
       "      <td>0.00</td>\n",
       "      <td>0.0</td>\n",
       "      <td>0.00</td>\n",
       "      <td>0.00</td>\n",
       "      <td>0.00</td>\n",
       "      <td>0.0</td>\n",
       "      <td>0.0</td>\n",
       "      <td>0.00</td>\n",
       "      <td>0</td>\n",
       "    </tr>\n",
       "    <tr>\n",
       "      <td>2</td>\n",
       "      <td>94.25</td>\n",
       "      <td>477.76</td>\n",
       "      <td>422.48</td>\n",
       "      <td>2</td>\n",
       "      <td>70.50</td>\n",
       "      <td>2</td>\n",
       "      <td>414.50</td>\n",
       "      <td>2</td>\n",
       "      <td>485.00</td>\n",
       "      <td>79</td>\n",
       "      <td>...</td>\n",
       "      <td>149.0</td>\n",
       "      <td>92.00</td>\n",
       "      <td>984.0</td>\n",
       "      <td>975.00</td>\n",
       "      <td>120.00</td>\n",
       "      <td>124.00</td>\n",
       "      <td>133.0</td>\n",
       "      <td>67.0</td>\n",
       "      <td>336.00</td>\n",
       "      <td>0</td>\n",
       "    </tr>\n",
       "    <tr>\n",
       "      <td>3</td>\n",
       "      <td>10.33</td>\n",
       "      <td>556.47</td>\n",
       "      <td>514.17</td>\n",
       "      <td>165</td>\n",
       "      <td>175.98</td>\n",
       "      <td>165</td>\n",
       "      <td>477.89</td>\n",
       "      <td>165</td>\n",
       "      <td>496.30</td>\n",
       "      <td>131</td>\n",
       "      <td>...</td>\n",
       "      <td>0.0</td>\n",
       "      <td>0.00</td>\n",
       "      <td>0.0</td>\n",
       "      <td>0.00</td>\n",
       "      <td>0.00</td>\n",
       "      <td>0.00</td>\n",
       "      <td>0.0</td>\n",
       "      <td>0.0</td>\n",
       "      <td>0.00</td>\n",
       "      <td>0</td>\n",
       "    </tr>\n",
       "    <tr>\n",
       "      <td>4</td>\n",
       "      <td>27.35</td>\n",
       "      <td>464.80</td>\n",
       "      <td>492.16</td>\n",
       "      <td>12</td>\n",
       "      <td>153.42</td>\n",
       "      <td>12</td>\n",
       "      <td>510.17</td>\n",
       "      <td>12</td>\n",
       "      <td>413.58</td>\n",
       "      <td>16</td>\n",
       "      <td>...</td>\n",
       "      <td>0.0</td>\n",
       "      <td>0.00</td>\n",
       "      <td>0.0</td>\n",
       "      <td>0.00</td>\n",
       "      <td>0.00</td>\n",
       "      <td>0.00</td>\n",
       "      <td>0.0</td>\n",
       "      <td>0.0</td>\n",
       "      <td>0.00</td>\n",
       "      <td>0</td>\n",
       "    </tr>\n",
       "  </tbody>\n",
       "</table>\n",
       "<p>5 rows × 206 columns</p>\n",
       "</div>"
      ],
      "text/plain": [
       "   Button.left_dwell  Button.left_interval  Button.left_flight  Key.tab  \\\n",
       "0              82.18                472.27              469.34       16   \n",
       "1              75.87                479.03              460.12        0   \n",
       "2              94.25                477.76              422.48        2   \n",
       "3              10.33                556.47              514.17      165   \n",
       "4              27.35                464.80              492.16       12   \n",
       "\n",
       "   Key.tab_dwell  Key.tab.1  Key.tab_interval  Key.tab.2  Key.tab_flight  \\\n",
       "0          86.31         16            478.56         16          502.38   \n",
       "1           0.00          0              0.00          0            0.00   \n",
       "2          70.50          2            414.50          2          485.00   \n",
       "3         175.98        165            477.89        165          496.30   \n",
       "4         153.42         12            510.17         12          413.58   \n",
       "\n",
       "   Key.shift  ...  тор_dwell_second  тор_dwell_third  тор_interval_first  \\\n",
       "0        215  ...             115.0           110.75               372.5   \n",
       "1         59  ...               0.0             0.00                 0.0   \n",
       "2         79  ...             149.0            92.00               984.0   \n",
       "3        131  ...               0.0             0.00                 0.0   \n",
       "4         16  ...               0.0             0.00                 0.0   \n",
       "\n",
       "   тор_interval_second  тор_flight_first  тор_flight_second  \\\n",
       "0               563.25            233.25             178.25   \n",
       "1                 0.00              0.00               0.00   \n",
       "2               975.00            120.00             124.00   \n",
       "3                 0.00              0.00               0.00   \n",
       "4                 0.00              0.00               0.00   \n",
       "\n",
       "   тор_up_to_up_first  тор_up_to_up_second  тор_latency  is_insider  \n",
       "0               237.5                174.0       522.25           0  \n",
       "1                 0.0                  0.0         0.00           0  \n",
       "2               133.0                 67.0       336.00           0  \n",
       "3                 0.0                  0.0         0.00           0  \n",
       "4                 0.0                  0.0         0.00           0  \n",
       "\n",
       "[5 rows x 206 columns]"
      ]
     },
     "execution_count": 2,
     "metadata": {},
     "output_type": "execute_result"
    }
   ],
   "source": [
    "df = pd.read_csv(\"./features.csv\", sep=\"|\")\n",
    "df.head()"
   ]
  },
  {
   "cell_type": "code",
   "execution_count": 3,
   "metadata": {},
   "outputs": [],
   "source": [
    "x = df.loc[:, df.columns != 'is_insider']\n",
    "y = df['is_insider']\n",
    "x_train, x_test, y_train, y_test = train_test_split(x, y, random_state = 0, test_size = 0.25)"
   ]
  },
  {
   "cell_type": "markdown",
   "metadata": {},
   "source": [
    "### Метрики "
   ]
  },
  {
   "cell_type": "code",
   "execution_count": 4,
   "metadata": {},
   "outputs": [],
   "source": [
    "def report(clf, x_train, y_train, x_test, y_test):\n",
    "    y_pred = clf.fit(x_train, y_train).predict(x_test)\n",
    "    print(\"accuracy train:\", clf.score(x_train,y_train), \"accuracy test\", accuracy_score(y_test, y_pred))\n",
    "    print(classification_report(y_test, y_pred))"
   ]
  },
  {
   "cell_type": "markdown",
   "metadata": {},
   "source": [
    "### Логистическая регрессия"
   ]
  },
  {
   "cell_type": "code",
   "execution_count": 5,
   "metadata": {},
   "outputs": [
    {
     "name": "stdout",
     "output_type": "stream",
     "text": [
      "accuracy train: 1.0 accuracy test 0.9090909090909091\n",
      "              precision    recall  f1-score   support\n",
      "\n",
      "           0       1.00      0.67      0.80         3\n",
      "           1       0.89      1.00      0.94         8\n",
      "\n",
      "    accuracy                           0.91        11\n",
      "   macro avg       0.94      0.83      0.87        11\n",
      "weighted avg       0.92      0.91      0.90        11\n",
      "\n"
     ]
    }
   ],
   "source": [
    "clf = LogisticRegression(solver='lbfgs', random_state=0).fit(x_train, y_train)\n",
    "report(clf, x_train, y_train, x_test, y_test)"
   ]
  },
  {
   "cell_type": "markdown",
   "metadata": {},
   "source": [
    "### Naive Bayes Classifier "
   ]
  },
  {
   "cell_type": "code",
   "execution_count": 6,
   "metadata": {},
   "outputs": [
    {
     "name": "stdout",
     "output_type": "stream",
     "text": [
      "accuracy train: 0.9354838709677419 accuracy test 0.7272727272727273\n",
      "              precision    recall  f1-score   support\n",
      "\n",
      "           0       0.50      0.33      0.40         3\n",
      "           1       0.78      0.88      0.82         8\n",
      "\n",
      "    accuracy                           0.73        11\n",
      "   macro avg       0.64      0.60      0.61        11\n",
      "weighted avg       0.70      0.73      0.71        11\n",
      "\n"
     ]
    }
   ],
   "source": [
    "from sklearn.naive_bayes import GaussianNB\n",
    "clf = GaussianNB()\n",
    "report(clf, x_train, y_train, x_test, y_test)"
   ]
  },
  {
   "cell_type": "markdown",
   "metadata": {},
   "source": [
    "### Support Vector Classification "
   ]
  },
  {
   "cell_type": "code",
   "execution_count": 7,
   "metadata": {},
   "outputs": [
    {
     "name": "stdout",
     "output_type": "stream",
     "text": [
      "accuracy train: 1.0 accuracy test 0.2727272727272727\n",
      "              precision    recall  f1-score   support\n",
      "\n",
      "           0       0.27      1.00      0.43         3\n",
      "           1       0.00      0.00      0.00         8\n",
      "\n",
      "    accuracy                           0.27        11\n",
      "   macro avg       0.14      0.50      0.21        11\n",
      "weighted avg       0.07      0.27      0.12        11\n",
      "\n"
     ]
    },
    {
     "name": "stderr",
     "output_type": "stream",
     "text": [
      "/Users/azamat/opt/anaconda3/lib/python3.7/site-packages/sklearn/metrics/classification.py:1437: UndefinedMetricWarning: Precision and F-score are ill-defined and being set to 0.0 in labels with no predicted samples.\n",
      "  'precision', 'predicted', average, warn_for)\n"
     ]
    }
   ],
   "source": [
    "from sklearn.svm import SVC\n",
    "clf = SVC(gamma='auto')\n",
    "report(clf, x_train, y_train, x_test, y_test)"
   ]
  },
  {
   "cell_type": "markdown",
   "metadata": {},
   "source": [
    "### Random Forest Classifier"
   ]
  },
  {
   "cell_type": "code",
   "execution_count": 8,
   "metadata": {},
   "outputs": [
    {
     "name": "stdout",
     "output_type": "stream",
     "text": [
      "accuracy train: 1.0 accuracy test 0.8181818181818182\n",
      "              precision    recall  f1-score   support\n",
      "\n",
      "           0       1.00      0.33      0.50         3\n",
      "           1       0.80      1.00      0.89         8\n",
      "\n",
      "    accuracy                           0.82        11\n",
      "   macro avg       0.90      0.67      0.69        11\n",
      "weighted avg       0.85      0.82      0.78        11\n",
      "\n"
     ]
    }
   ],
   "source": [
    "from sklearn.ensemble import RandomForestClassifier\n",
    "clf = RandomForestClassifier(max_depth=2, n_estimators = 200, random_state=0)\n",
    "report(clf, x_train, y_train, x_test, y_test)"
   ]
  },
  {
   "cell_type": "markdown",
   "metadata": {},
   "source": [
    "### AdaBoost "
   ]
  },
  {
   "cell_type": "code",
   "execution_count": 9,
   "metadata": {},
   "outputs": [
    {
     "name": "stdout",
     "output_type": "stream",
     "text": [
      "accuracy train: 1.0 accuracy test 0.8181818181818182\n",
      "              precision    recall  f1-score   support\n",
      "\n",
      "           0       0.67      0.67      0.67         3\n",
      "           1       0.88      0.88      0.88         8\n",
      "\n",
      "    accuracy                           0.82        11\n",
      "   macro avg       0.77      0.77      0.77        11\n",
      "weighted avg       0.82      0.82      0.82        11\n",
      "\n"
     ]
    }
   ],
   "source": [
    "from sklearn.ensemble import AdaBoostClassifier\n",
    "from sklearn.tree import DecisionTreeClassifier\n",
    "clf = AdaBoostClassifier(DecisionTreeClassifier(max_depth=1),\n",
    "                         algorithm=\"SAMME\",\n",
    "                         n_estimators=200)\n",
    "report(clf, x_train, y_train, x_test, y_test)"
   ]
  },
  {
   "cell_type": "markdown",
   "metadata": {},
   "source": [
    "### Gradient Boosting Classifier "
   ]
  },
  {
   "cell_type": "code",
   "execution_count": 10,
   "metadata": {},
   "outputs": [
    {
     "name": "stdout",
     "output_type": "stream",
     "text": [
      "accuracy train: 1.0 accuracy test 0.6363636363636364\n",
      "              precision    recall  f1-score   support\n",
      "\n",
      "           0       0.33      0.33      0.33         3\n",
      "           1       0.75      0.75      0.75         8\n",
      "\n",
      "    accuracy                           0.64        11\n",
      "   macro avg       0.54      0.54      0.54        11\n",
      "weighted avg       0.64      0.64      0.64        11\n",
      "\n"
     ]
    }
   ],
   "source": [
    "from sklearn.ensemble import GradientBoostingClassifier\n",
    "clf = GradientBoostingClassifier(n_estimators=200, learning_rate=1.0, max_depth=1, random_state=0)\n",
    "report(clf, x_train, y_train, x_test, y_test)"
   ]
  },
  {
   "cell_type": "code",
   "execution_count": null,
   "metadata": {},
   "outputs": [],
   "source": []
  }
 ],
 "metadata": {
  "kernelspec": {
   "display_name": "Python 3",
   "language": "python",
   "name": "python3"
  },
  "language_info": {
   "codemirror_mode": {
    "name": "ipython",
    "version": 3
   },
   "file_extension": ".py",
   "mimetype": "text/x-python",
   "name": "python",
   "nbconvert_exporter": "python",
   "pygments_lexer": "ipython3",
   "version": "3.7.4"
  }
 },
 "nbformat": 4,
 "nbformat_minor": 2
}
